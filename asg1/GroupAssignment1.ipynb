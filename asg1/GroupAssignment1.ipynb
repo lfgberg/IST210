{
 "cells": [
  {
   "cell_type": "markdown",
   "metadata": {
    "colab_type": "text",
    "id": "UblhAIGuGF27"
   },
   "source": [
    "# Illegal Airplane Dealership "
   ]
  },
  {
   "cell_type": "markdown",
   "metadata": {
    "colab_type": "text",
    "id": "RlR0_Ol4GW3b"
   },
   "source": [
    "### what is your idea?"
   ]
  },
  {
   "cell_type": "markdown",
   "metadata": {
    "colab_type": "text",
    "id": "HU68Zv5MGY97"
   },
   "source": [
    "An Illegal Airplane Dealership, with ECommerce!"
   ]
  },
  {
   "cell_type": "markdown",
   "metadata": {
    "colab_type": "text",
    "id": "45Q0PBrIGiIg"
   },
   "source": [
    "### what makes it unique?"
   ]
  },
  {
   "cell_type": "markdown",
   "metadata": {
    "colab_type": "text",
    "id": "8WOfTAuqGjoc"
   },
   "source": [
    "Where else are you going to buy an airplane? There are other companies that do this, but it is a very niche market. "
   ]
  },
  {
   "cell_type": "markdown",
   "metadata": {
    "colab_type": "text",
    "id": "dVrktWdXGl19"
   },
   "source": [
    "### is this a brand-new product or business, or are you borrowing from another business?"
   ]
  },
  {
   "cell_type": "markdown",
   "metadata": {
    "colab_type": "text",
    "id": "MmGY0leUGnaN"
   },
   "source": [
    "It is brand new in the aspect that we will be selling commercially, not militarily. Anyone with the proper credentials can pull up and buy an A-10 Warthog 2. "
   ]
  },
  {
   "cell_type": "markdown",
   "metadata": {
    "colab_type": "text",
    "id": "k3oJzVDPGnws"
   },
   "source": [
    "### describe a typical business interaction or a day at your business."
   ]
  },
  {
   "cell_type": "markdown",
   "metadata": {
    "colab_type": "text",
    "id": "GeEKl-lUG1x5"
   },
   "source": [
    "A typical day in the business would include receiving potential buyer input to tailor the right aircraft for their needs. Another common interaction would be maintenance requests, fuel requests, and training on how to operate the aircraft. "
   ]
  },
  {
   "cell_type": "markdown",
   "metadata": {
    "colab_type": "text",
    "id": "iUFoC5BuGpID"
   },
   "source": [
    "### list your 5 entities/tables and for each, provide details about what data will be stored in the entities/tables."
   ]
  },
  {
   "cell_type": "markdown",
   "metadata": {
    "colab_type": "text",
    "id": "AiZXrfSMGqZm"
   },
   "source": [
    "1. Transactions (real time data) \n",
    "\n",
    "* ID \n",
    "\n",
    "* Customer (REFERENCES CUSTOMER) \n",
    "\n",
    "* $ \n",
    "\n",
    "* Items purchased (UPDATES INVENTORY) \n",
    "\n",
    "2. Inventory \n",
    "\n",
    "* ID \n",
    "\n",
    "* Aircraft (REFERENCES AIRCRAFT) \n",
    "\n",
    "* Quantity \n",
    "\n",
    "3. Staff \n",
    "\n",
    "* ID \n",
    "\n",
    "* Position \n",
    "\n",
    "* Name \n",
    "\n",
    "4. Customer \n",
    "\n",
    "* ID \n",
    "\n",
    "* Name \n",
    "\n",
    "* Billing info \n",
    "\n",
    "5. Aircraft \n",
    "\n",
    "* ID \n",
    "\n",
    "* Type\n",
    "\n",
    "* Color \n",
    "\n",
    "* Hours on frame \n",
    "\n",
    "* Condition \n",
    "\n",
    "* Cost \n",
    "\n",
    "6. Maintenance Tickets (real time data) \n",
    "\n",
    "* ID \n",
    "\n",
    "* Ticket \n",
    "\n",
    "* Type of operation (REFERENCES SERVICES) \n",
    "\n",
    "* Customer (REFERENCES CUSTOMER) \n",
    "\n",
    "* Employee (REFERENCES STAFF) \n",
    "\n",
    "7. Services \n",
    "\n",
    "* ID \n",
    "\n",
    "* Name \n",
    "\n",
    "* Cost \n",
    "\n",
    "* Hours \n",
    "\n",
    "* Description "
   ]
  },
  {
   "cell_type": "markdown",
   "metadata": {
    "colab_type": "text",
    "id": "WFQXwieoHiCe"
   },
   "source": [
    "### provide a goal for your project "
   ]
  },
  {
   "cell_type": "markdown",
   "metadata": {
    "colab_type": "text",
    "id": "cKmoiVHrHnHF"
   },
   "source": [
    "We want to create an easy-to-use database that brings the dark secrets of illegal acquisition of fighter planes to the fingertips of our devoted buyers. Our motto is “Never seen that individual before in my life”. "
   ]
  }
 ],
 "metadata": {
  "colab": {
   "authorship_tag": "ABX9TyNoZ/WtGebW2x/fpxRiyzph",
   "include_colab_link": true,
   "name": "GroupAssignment1-Template.ipynb",
   "provenance": []
  },
  "kernelspec": {
   "display_name": "Python 3",
   "language": "python",
   "name": "python3"
  },
  "language_info": {
   "codemirror_mode": {
    "name": "ipython",
    "version": 3
   },
   "file_extension": ".py",
   "mimetype": "text/x-python",
   "name": "python",
   "nbconvert_exporter": "python",
   "pygments_lexer": "ipython3",
   "version": "3.9.5"
  }
 },
 "nbformat": 4,
 "nbformat_minor": 1
}
